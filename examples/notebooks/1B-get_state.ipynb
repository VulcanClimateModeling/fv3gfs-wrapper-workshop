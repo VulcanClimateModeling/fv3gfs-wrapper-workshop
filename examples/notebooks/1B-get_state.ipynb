{
 "cells": [
  {
   "cell_type": "markdown",
   "metadata": {},
   "source": [
    "# 1B: Getting state from the fortran model from within Python\n",
    "\n",
    "In this notebook we will illustrate how you can use the `fv3gfs.wrapper.get_state` method to access state of variables in the fortran model.\n",
    "\n",
    "We'll start with some of the same boilerplate code from before."
   ]
  },
  {
   "cell_type": "markdown",
   "metadata": {},
   "source": [
    "## Recursively copy the contents of the example run directory to a clean folder in the docker container\n",
    "\n",
    "We'll also override the input namelist of the reference run directory."
   ]
  },
  {
   "cell_type": "code",
   "execution_count": 1,
   "metadata": {},
   "outputs": [],
   "source": [
    "import os\n",
    "import shutil"
   ]
  },
  {
   "cell_type": "code",
   "execution_count": 2,
   "metadata": {},
   "outputs": [],
   "source": [
    "REFERENCE = \"reference_rundir\"\n",
    "RUNDIR = \"rundir_1B\"\n",
    "\n",
    "if os.path.isdir(RUNDIR):\n",
    "    shutil.rmtree(RUNDIR)\n",
    "shutil.copytree(REFERENCE, RUNDIR);"
   ]
  },
  {
   "cell_type": "markdown",
   "metadata": {},
   "source": [
    "## Start the ipyparallel session for the notebook\n",
    "\n",
    "This involves running a couple shell commands (hence the `%%bash` cell magic command at the top of the following cell); note this means these commands are executed in the shell rather than the notebook."
   ]
  },
  {
   "cell_type": "code",
   "execution_count": 3,
   "metadata": {},
   "outputs": [],
   "source": [
    "%%bash\n",
    "# if you get a crash, add --debug to this command to put more info in logs\n",
    "# logs are in /root/.ipython/profile_mpi/log\n",
    "ipcluster start --profile=mpi -n 6 --daemonize\n",
    "sleep 10  # command is asynchronous, so let's wait to avoid an error in the next cell"
   ]
  },
  {
   "cell_type": "code",
   "execution_count": 4,
   "metadata": {},
   "outputs": [],
   "source": [
    "import ipyparallel as ipp\n",
    "rc = ipp.Client(profile='mpi', targets='all', block=True)\n",
    "dv = rc[:]\n",
    "dv.activate()\n",
    "dv.block = True"
   ]
  },
  {
   "cell_type": "code",
   "execution_count": 5,
   "metadata": {},
   "outputs": [
    {
     "name": "stdout",
     "output_type": "stream",
     "text": [
      "Running IPython Parallel on 6 MPI engines\n",
      "Commands in the following cells will be executed in parallel (disable with %autopx)\n",
      "%autopx enabled\n"
     ]
    }
   ],
   "source": [
    "print(\"Running IPython Parallel on {0} MPI engines\".format(len(rc.ids)))\n",
    "print(\"Commands in the following cells will be executed in parallel (disable with %autopx)\")\n",
    "%autopx"
   ]
  },
  {
   "cell_type": "markdown",
   "metadata": {},
   "source": [
    "## Use `mpi4py` gain access to the communicator for the notebook."
   ]
  },
  {
   "cell_type": "code",
   "execution_count": 6,
   "metadata": {},
   "outputs": [],
   "source": [
    "from mpi4py import MPI\n",
    "\n",
    "comm = MPI.COMM_WORLD"
   ]
  },
  {
   "cell_type": "markdown",
   "metadata": {},
   "source": [
    "## Enter the run directory\n",
    "\n",
    "Next we move into the run directory we created.  Note that we need to re-import `os` and re-define any variables we created before we started the cluster.  `fv3gfs.wrapper` requires that its routines are called from within a valid run directory."
   ]
  },
  {
   "cell_type": "code",
   "execution_count": 7,
   "metadata": {},
   "outputs": [],
   "source": [
    "import os\n",
    "RUNDIR = \"rundir_1B\"\n",
    "os.chdir(RUNDIR)"
   ]
  },
  {
   "cell_type": "markdown",
   "metadata": {},
   "source": [
    "## Start by initializing the model"
   ]
  },
  {
   "cell_type": "code",
   "execution_count": 8,
   "metadata": {},
   "outputs": [],
   "source": [
    "from fv3gfs import wrapper\n",
    "wrapper.initialize()"
   ]
  },
  {
   "cell_type": "markdown",
   "metadata": {},
   "source": [
    "## Before even running the model, we can illustrate the `get_state` command\n",
    "\n",
    "After initializing the model we can obtain access to many of its fields through the `get_state` method. In its simplest form, `get_state` requires just a list of variable names.  A list of possible variable names we can get can be found in the metadata files within the fv3gfs-wrapper GitHub repository:\n",
    "\n",
    "- [dynamics_properties.json](https://github.com/VulcanClimateModeling/fv3gfs-wrapper/blob/master/fv3gfs/wrapper/dynamics_properties.json)\n",
    "- [physics_properties.json](https://github.com/VulcanClimateModeling/fv3gfs-wrapper/blob/master/fv3gfs/wrapper/physics_properties.json)\n",
    "\n",
    "Tracers, e.g. `\"specific_humidity\"`, are handled in a special way, because they are dynamically set upon model initialization using the `field_table`.  For information about the tracers used by this particular simulation, use `fv3gfs.wrapper.get_tracer_metadata()`.\n",
    "\n",
    "For instance we could obtain the `\"surface_pressure\"` field using `wrapper.get_state([\"surface_pressure\"])`."
   ]
  },
  {
   "cell_type": "code",
   "execution_count": 9,
   "metadata": {},
   "outputs": [],
   "source": [
    "state = wrapper.get_state([\"surface_pressure\"])"
   ]
  },
  {
   "cell_type": "markdown",
   "metadata": {},
   "source": [
    "### What does this return?\n",
    "\n",
    "`get_state` returns a dictionary mapping variable names to `fv3gfs.util.Quantity` objects.  For illustration we'll just print out what the result of the above cell was:"
   ]
  },
  {
   "cell_type": "code",
   "execution_count": 10,
   "metadata": {},
   "outputs": [
    {
     "data": {
      "text/plain": [
       "\u001b[0;31mOut[0:5]: \u001b[0m\n",
       "{'surface_pressure': Quantity(\n",
       "     data=\n",
       " [[6.9112055e-310 6.9112055e-310 9.9376269e-316 ... 0.0000000e+000\n",
       "   0.0000000e+000 0.0000000e+000]\n",
       "  [0.0000000e+000 0.0000000e+000 0.0000000e+000 ... 0.0000000e+000\n",
       "   0.0000000e+000 0.0000000e+000]\n",
       "  [0.0000000e+000 0.0000000e+000 0.0000000e+000 ... 0.0000000e+000\n",
       "   0.0000000e+000 0.0000000e+000]\n",
       "  ...\n",
       "  [0.0000000e+000 0.0000000e+000 0.0000000e+000 ... 0.0000000e+000\n",
       "   0.0000000e+000 0.0000000e+000]\n",
       "  [0.0000000e+000 0.0000000e+000 0.0000000e+000 ... 0.0000000e+000\n",
       "   0.0000000e+000 0.0000000e+000]\n",
       "  [0.0000000e+000 0.0000000e+000 0.0000000e+000 ... 0.0000000e+000\n",
       "   0.0000000e+000 0.0000000e+000]],\n",
       "     dims=('y', 'x'),\n",
       "     units=Pa,\n",
       "     origin=(3, 3),\n",
       "     extent=(48, 48)\n",
       " )}"
      ]
     },
     "metadata": {
      "after": [],
      "completed": "2021-01-18T16:06:51.543093",
      "data": {},
      "engine_id": 0,
      "engine_uuid": "c85883be-dcd087d3a7c736ea2cd84d6a",
      "error": null,
      "execute_input": "state",
      "execute_result": {
       "data": {
        "text/plain": "{'surface_pressure': Quantity(\n     data=\n [[6.9112055e-310 6.9112055e-310 9.9376269e-316 ... 0.0000000e+000\n   0.0000000e+000 0.0000000e+000]\n  [0.0000000e+000 0.0000000e+000 0.0000000e+000 ... 0.0000000e+000\n   0.0000000e+000 0.0000000e+000]\n  [0.0000000e+000 0.0000000e+000 0.0000000e+000 ... 0.0000000e+000\n   0.0000000e+000 0.0000000e+000]\n  ...\n  [0.0000000e+000 0.0000000e+000 0.0000000e+000 ... 0.0000000e+000\n   0.0000000e+000 0.0000000e+000]\n  [0.0000000e+000 0.0000000e+000 0.0000000e+000 ... 0.0000000e+000\n   0.0000000e+000 0.0000000e+000]\n  [0.0000000e+000 0.0000000e+000 0.0000000e+000 ... 0.0000000e+000\n   0.0000000e+000 0.0000000e+000]],\n     dims=('y', 'x'),\n     units=Pa,\n     origin=(3, 3),\n     extent=(48, 48)\n )}"
       },
       "execution_count": 5,
       "metadata": {}
      },
      "follow": [],
      "msg_id": "0e0f7ee6-191175f1f4f023b058745b9c_25",
      "outputs": [],
      "received": "2021-01-18T16:06:51.548361",
      "started": "2021-01-18T16:06:51.517140",
      "status": "ok",
      "stderr": "",
      "stdout": "",
      "submitted": "2021-01-18T16:06:51.511078"
     },
     "output_type": "display_data"
    },
    {
     "data": {
      "text/plain": [
       "\u001b[0;31mOut[1:5]: \u001b[0m\n",
       "{'surface_pressure': Quantity(\n",
       "     data=\n",
       " [[6.90278801e-310 9.99481837e-316 4.24381916e-316 ... 0.00000000e+000\n",
       "   0.00000000e+000 0.00000000e+000]\n",
       "  [0.00000000e+000 0.00000000e+000 0.00000000e+000 ... 0.00000000e+000\n",
       "   0.00000000e+000 0.00000000e+000]\n",
       "  [0.00000000e+000 0.00000000e+000 0.00000000e+000 ... 0.00000000e+000\n",
       "   0.00000000e+000 0.00000000e+000]\n",
       "  ...\n",
       "  [0.00000000e+000 0.00000000e+000 0.00000000e+000 ... 0.00000000e+000\n",
       "   0.00000000e+000 0.00000000e+000]\n",
       "  [0.00000000e+000 0.00000000e+000 0.00000000e+000 ... 0.00000000e+000\n",
       "   0.00000000e+000 0.00000000e+000]\n",
       "  [0.00000000e+000 0.00000000e+000 0.00000000e+000 ... 0.00000000e+000\n",
       "   0.00000000e+000 0.00000000e+000]],\n",
       "     dims=('y', 'x'),\n",
       "     units=Pa,\n",
       "     origin=(3, 3),\n",
       "     extent=(48, 48)\n",
       " )}"
      ]
     },
     "metadata": {
      "after": [],
      "completed": "2021-01-18T16:06:51.542553",
      "data": {},
      "engine_id": 1,
      "engine_uuid": "ba899cb7-072358f45cf9147783bc9dd4",
      "error": null,
      "execute_input": "state",
      "execute_result": {
       "data": {
        "text/plain": "{'surface_pressure': Quantity(\n     data=\n [[6.90278801e-310 9.99481837e-316 4.24381916e-316 ... 0.00000000e+000\n   0.00000000e+000 0.00000000e+000]\n  [0.00000000e+000 0.00000000e+000 0.00000000e+000 ... 0.00000000e+000\n   0.00000000e+000 0.00000000e+000]\n  [0.00000000e+000 0.00000000e+000 0.00000000e+000 ... 0.00000000e+000\n   0.00000000e+000 0.00000000e+000]\n  ...\n  [0.00000000e+000 0.00000000e+000 0.00000000e+000 ... 0.00000000e+000\n   0.00000000e+000 0.00000000e+000]\n  [0.00000000e+000 0.00000000e+000 0.00000000e+000 ... 0.00000000e+000\n   0.00000000e+000 0.00000000e+000]\n  [0.00000000e+000 0.00000000e+000 0.00000000e+000 ... 0.00000000e+000\n   0.00000000e+000 0.00000000e+000]],\n     dims=('y', 'x'),\n     units=Pa,\n     origin=(3, 3),\n     extent=(48, 48)\n )}"
       },
       "execution_count": 5,
       "metadata": {}
      },
      "follow": [],
      "msg_id": "0e0f7ee6-191175f1f4f023b058745b9c_26",
      "outputs": [],
      "received": "2021-01-18T16:06:51.549351",
      "started": "2021-01-18T16:06:51.519900",
      "status": "ok",
      "stderr": "",
      "stdout": "",
      "submitted": "2021-01-18T16:06:51.511373"
     },
     "output_type": "display_data"
    },
    {
     "data": {
      "text/plain": [
       "\u001b[0;31mOut[2:5]: \u001b[0m\n",
       "{'surface_pressure': Quantity(\n",
       "     data=\n",
       " [[6.91825148e-310 9.42770216e-316 9.42386900e-316 ... 0.00000000e+000\n",
       "   0.00000000e+000 0.00000000e+000]\n",
       "  [0.00000000e+000 0.00000000e+000 0.00000000e+000 ... 0.00000000e+000\n",
       "   0.00000000e+000 0.00000000e+000]\n",
       "  [0.00000000e+000 0.00000000e+000 0.00000000e+000 ... 0.00000000e+000\n",
       "   0.00000000e+000 0.00000000e+000]\n",
       "  ...\n",
       "  [0.00000000e+000 0.00000000e+000 0.00000000e+000 ... 0.00000000e+000\n",
       "   0.00000000e+000 0.00000000e+000]\n",
       "  [0.00000000e+000 0.00000000e+000 0.00000000e+000 ... 0.00000000e+000\n",
       "   0.00000000e+000 0.00000000e+000]\n",
       "  [0.00000000e+000 0.00000000e+000 0.00000000e+000 ... 0.00000000e+000\n",
       "   0.00000000e+000 0.00000000e+000]],\n",
       "     dims=('y', 'x'),\n",
       "     units=Pa,\n",
       "     origin=(3, 3),\n",
       "     extent=(48, 48)\n",
       " )}"
      ]
     },
     "metadata": {
      "after": [],
      "completed": "2021-01-18T16:06:51.535391",
      "data": {},
      "engine_id": 2,
      "engine_uuid": "49486dec-a6fa3ccdf4dbd14c43233d9f",
      "error": null,
      "execute_input": "state",
      "execute_result": {
       "data": {
        "text/plain": "{'surface_pressure': Quantity(\n     data=\n [[6.91825148e-310 9.42770216e-316 9.42386900e-316 ... 0.00000000e+000\n   0.00000000e+000 0.00000000e+000]\n  [0.00000000e+000 0.00000000e+000 0.00000000e+000 ... 0.00000000e+000\n   0.00000000e+000 0.00000000e+000]\n  [0.00000000e+000 0.00000000e+000 0.00000000e+000 ... 0.00000000e+000\n   0.00000000e+000 0.00000000e+000]\n  ...\n  [0.00000000e+000 0.00000000e+000 0.00000000e+000 ... 0.00000000e+000\n   0.00000000e+000 0.00000000e+000]\n  [0.00000000e+000 0.00000000e+000 0.00000000e+000 ... 0.00000000e+000\n   0.00000000e+000 0.00000000e+000]\n  [0.00000000e+000 0.00000000e+000 0.00000000e+000 ... 0.00000000e+000\n   0.00000000e+000 0.00000000e+000]],\n     dims=('y', 'x'),\n     units=Pa,\n     origin=(3, 3),\n     extent=(48, 48)\n )}"
       },
       "execution_count": 5,
       "metadata": {}
      },
      "follow": [],
      "msg_id": "0e0f7ee6-191175f1f4f023b058745b9c_27",
      "outputs": [],
      "received": "2021-01-18T16:06:51.541238",
      "started": "2021-01-18T16:06:51.519320",
      "status": "ok",
      "stderr": "",
      "stdout": "",
      "submitted": "2021-01-18T16:06:51.511675"
     },
     "output_type": "display_data"
    },
    {
     "data": {
      "text/plain": [
       "\u001b[0;31mOut[3:5]: \u001b[0m\n",
       "{'surface_pressure': Quantity(\n",
       "     data=\n",
       " [[6.94961855e-310 9.60506935e-316 9.59735402e-316 ... 0.00000000e+000\n",
       "   0.00000000e+000 0.00000000e+000]\n",
       "  [0.00000000e+000 0.00000000e+000 0.00000000e+000 ... 0.00000000e+000\n",
       "   0.00000000e+000 0.00000000e+000]\n",
       "  [0.00000000e+000 0.00000000e+000 0.00000000e+000 ... 0.00000000e+000\n",
       "   0.00000000e+000 0.00000000e+000]\n",
       "  ...\n",
       "  [0.00000000e+000 0.00000000e+000 0.00000000e+000 ... 0.00000000e+000\n",
       "   0.00000000e+000 0.00000000e+000]\n",
       "  [0.00000000e+000 0.00000000e+000 0.00000000e+000 ... 0.00000000e+000\n",
       "   0.00000000e+000 0.00000000e+000]\n",
       "  [0.00000000e+000 0.00000000e+000 0.00000000e+000 ... 0.00000000e+000\n",
       "   0.00000000e+000 0.00000000e+000]],\n",
       "     dims=('y', 'x'),\n",
       "     units=Pa,\n",
       "     origin=(3, 3),\n",
       "     extent=(48, 48)\n",
       " )}"
      ]
     },
     "metadata": {
      "after": [],
      "completed": "2021-01-18T16:06:51.542154",
      "data": {},
      "engine_id": 3,
      "engine_uuid": "34312922-595b31c0e1a2223c64a1345a",
      "error": null,
      "execute_input": "state",
      "execute_result": {
       "data": {
        "text/plain": "{'surface_pressure': Quantity(\n     data=\n [[6.94961855e-310 9.60506935e-316 9.59735402e-316 ... 0.00000000e+000\n   0.00000000e+000 0.00000000e+000]\n  [0.00000000e+000 0.00000000e+000 0.00000000e+000 ... 0.00000000e+000\n   0.00000000e+000 0.00000000e+000]\n  [0.00000000e+000 0.00000000e+000 0.00000000e+000 ... 0.00000000e+000\n   0.00000000e+000 0.00000000e+000]\n  ...\n  [0.00000000e+000 0.00000000e+000 0.00000000e+000 ... 0.00000000e+000\n   0.00000000e+000 0.00000000e+000]\n  [0.00000000e+000 0.00000000e+000 0.00000000e+000 ... 0.00000000e+000\n   0.00000000e+000 0.00000000e+000]\n  [0.00000000e+000 0.00000000e+000 0.00000000e+000 ... 0.00000000e+000\n   0.00000000e+000 0.00000000e+000]],\n     dims=('y', 'x'),\n     units=Pa,\n     origin=(3, 3),\n     extent=(48, 48)\n )}"
       },
       "execution_count": 5,
       "metadata": {}
      },
      "follow": [],
      "msg_id": "0e0f7ee6-191175f1f4f023b058745b9c_28",
      "outputs": [],
      "received": "2021-01-18T16:06:51.551650",
      "started": "2021-01-18T16:06:51.518916",
      "status": "ok",
      "stderr": "",
      "stdout": "",
      "submitted": "2021-01-18T16:06:51.512081"
     },
     "output_type": "display_data"
    },
    {
     "data": {
      "text/plain": [
       "\u001b[0;31mOut[4:5]: \u001b[0m\n",
       "{'surface_pressure': Quantity(\n",
       "     data=\n",
       " [[6.9463285e-310 9.6007350e-316 4.7738615e-316 ... 0.0000000e+000\n",
       "   0.0000000e+000 0.0000000e+000]\n",
       "  [0.0000000e+000 0.0000000e+000 0.0000000e+000 ... 0.0000000e+000\n",
       "   0.0000000e+000 0.0000000e+000]\n",
       "  [0.0000000e+000 0.0000000e+000 0.0000000e+000 ... 0.0000000e+000\n",
       "   0.0000000e+000 0.0000000e+000]\n",
       "  ...\n",
       "  [0.0000000e+000 0.0000000e+000 0.0000000e+000 ... 0.0000000e+000\n",
       "   0.0000000e+000 0.0000000e+000]\n",
       "  [0.0000000e+000 0.0000000e+000 0.0000000e+000 ... 0.0000000e+000\n",
       "   0.0000000e+000 0.0000000e+000]\n",
       "  [0.0000000e+000 0.0000000e+000 0.0000000e+000 ... 0.0000000e+000\n",
       "   0.0000000e+000 0.0000000e+000]],\n",
       "     dims=('y', 'x'),\n",
       "     units=Pa,\n",
       "     origin=(3, 3),\n",
       "     extent=(48, 48)\n",
       " )}"
      ]
     },
     "metadata": {
      "after": [],
      "completed": "2021-01-18T16:06:51.544076",
      "data": {},
      "engine_id": 4,
      "engine_uuid": "32586503-45861858ec630c4c81fcdeb6",
      "error": null,
      "execute_input": "state",
      "execute_result": {
       "data": {
        "text/plain": "{'surface_pressure': Quantity(\n     data=\n [[6.9463285e-310 9.6007350e-316 4.7738615e-316 ... 0.0000000e+000\n   0.0000000e+000 0.0000000e+000]\n  [0.0000000e+000 0.0000000e+000 0.0000000e+000 ... 0.0000000e+000\n   0.0000000e+000 0.0000000e+000]\n  [0.0000000e+000 0.0000000e+000 0.0000000e+000 ... 0.0000000e+000\n   0.0000000e+000 0.0000000e+000]\n  ...\n  [0.0000000e+000 0.0000000e+000 0.0000000e+000 ... 0.0000000e+000\n   0.0000000e+000 0.0000000e+000]\n  [0.0000000e+000 0.0000000e+000 0.0000000e+000 ... 0.0000000e+000\n   0.0000000e+000 0.0000000e+000]\n  [0.0000000e+000 0.0000000e+000 0.0000000e+000 ... 0.0000000e+000\n   0.0000000e+000 0.0000000e+000]],\n     dims=('y', 'x'),\n     units=Pa,\n     origin=(3, 3),\n     extent=(48, 48)\n )}"
       },
       "execution_count": 5,
       "metadata": {}
      },
      "follow": [],
      "msg_id": "0e0f7ee6-191175f1f4f023b058745b9c_29",
      "outputs": [],
      "received": "2021-01-18T16:06:51.550503",
      "started": "2021-01-18T16:06:51.518025",
      "status": "ok",
      "stderr": "",
      "stdout": "",
      "submitted": "2021-01-18T16:06:51.513144"
     },
     "output_type": "display_data"
    },
    {
     "data": {
      "text/plain": [
       "\u001b[0;31mOut[5:5]: \u001b[0m\n",
       "{'surface_pressure': Quantity(\n",
       "     data=\n",
       " [[6.94556651e-310 1.00571552e-315 1.00533221e-315 ... 0.00000000e+000\n",
       "   0.00000000e+000 0.00000000e+000]\n",
       "  [0.00000000e+000 0.00000000e+000 0.00000000e+000 ... 0.00000000e+000\n",
       "   0.00000000e+000 0.00000000e+000]\n",
       "  [0.00000000e+000 0.00000000e+000 0.00000000e+000 ... 0.00000000e+000\n",
       "   0.00000000e+000 0.00000000e+000]\n",
       "  ...\n",
       "  [0.00000000e+000 0.00000000e+000 0.00000000e+000 ... 0.00000000e+000\n",
       "   0.00000000e+000 0.00000000e+000]\n",
       "  [0.00000000e+000 0.00000000e+000 0.00000000e+000 ... 0.00000000e+000\n",
       "   0.00000000e+000 0.00000000e+000]\n",
       "  [0.00000000e+000 0.00000000e+000 0.00000000e+000 ... 0.00000000e+000\n",
       "   0.00000000e+000 0.00000000e+000]],\n",
       "     dims=('y', 'x'),\n",
       "     units=Pa,\n",
       "     origin=(3, 3),\n",
       "     extent=(48, 48)\n",
       " )}"
      ]
     },
     "metadata": {
      "after": [],
      "completed": "2021-01-18T16:06:51.542337",
      "data": {},
      "engine_id": 5,
      "engine_uuid": "d4cf6621-1c20833b964ca23d454fe09e",
      "error": null,
      "execute_input": "state",
      "execute_result": {
       "data": {
        "text/plain": "{'surface_pressure': Quantity(\n     data=\n [[6.94556651e-310 1.00571552e-315 1.00533221e-315 ... 0.00000000e+000\n   0.00000000e+000 0.00000000e+000]\n  [0.00000000e+000 0.00000000e+000 0.00000000e+000 ... 0.00000000e+000\n   0.00000000e+000 0.00000000e+000]\n  [0.00000000e+000 0.00000000e+000 0.00000000e+000 ... 0.00000000e+000\n   0.00000000e+000 0.00000000e+000]\n  ...\n  [0.00000000e+000 0.00000000e+000 0.00000000e+000 ... 0.00000000e+000\n   0.00000000e+000 0.00000000e+000]\n  [0.00000000e+000 0.00000000e+000 0.00000000e+000 ... 0.00000000e+000\n   0.00000000e+000 0.00000000e+000]\n  [0.00000000e+000 0.00000000e+000 0.00000000e+000 ... 0.00000000e+000\n   0.00000000e+000 0.00000000e+000]],\n     dims=('y', 'x'),\n     units=Pa,\n     origin=(3, 3),\n     extent=(48, 48)\n )}"
       },
       "execution_count": 5,
       "metadata": {}
      },
      "follow": [],
      "msg_id": "0e0f7ee6-191175f1f4f023b058745b9c_30",
      "outputs": [],
      "received": "2021-01-18T16:06:51.547211",
      "started": "2021-01-18T16:06:51.519167",
      "status": "ok",
      "stderr": "",
      "stdout": "",
      "submitted": "2021-01-18T16:06:51.513379"
     },
     "output_type": "display_data"
    }
   ],
   "source": [
    "state"
   ]
  },
  {
   "cell_type": "markdown",
   "metadata": {},
   "source": [
    "We see that we have a state dictionary on each rank, each containing a `\"surface_pressure\"` variable.  An `fv3gfs.util.Quantity` object is a container for an array with metadata that describes the dimensions of the field it contains, as well as information about the size of the portion of the computational domain it represents in addition to the size of its halo regions.  \n",
    "\n",
    "The domain decomposition is such that there is one cubed sphere tile per MPI rank, hence the `extent` of each compute domain is `(48, 48)`; the `origin` denotes the starting horizontal indices of the compute domain within raw data array that the `Quantity` contains (here since we are using the default number of halo points in FV3GFS, the origin is at `(3, 3)`).\n",
    "\n",
    "The raw data (including halo points) a `Quantity` object contains can be accessed through the `data` attribute as a pure `np.ndarray`.  Note we can see some of the halo regions have not been initialized yet (they contain garbled values)."
   ]
  },
  {
   "cell_type": "code",
   "execution_count": 11,
   "metadata": {},
   "outputs": [
    {
     "name": "stdout",
     "output_type": "stream",
     "text": [
      "[stdout:0] \n",
      "[[6.9112055e-310 6.9112055e-310 9.9376269e-316 ... 0.0000000e+000\n",
      "  0.0000000e+000 0.0000000e+000]\n",
      " [0.0000000e+000 0.0000000e+000 0.0000000e+000 ... 0.0000000e+000\n",
      "  0.0000000e+000 0.0000000e+000]\n",
      " [0.0000000e+000 0.0000000e+000 0.0000000e+000 ... 0.0000000e+000\n",
      "  0.0000000e+000 0.0000000e+000]\n",
      " ...\n",
      " [0.0000000e+000 0.0000000e+000 0.0000000e+000 ... 0.0000000e+000\n",
      "  0.0000000e+000 0.0000000e+000]\n",
      " [0.0000000e+000 0.0000000e+000 0.0000000e+000 ... 0.0000000e+000\n",
      "  0.0000000e+000 0.0000000e+000]\n",
      " [0.0000000e+000 0.0000000e+000 0.0000000e+000 ... 0.0000000e+000\n",
      "  0.0000000e+000 0.0000000e+000]]\n"
     ]
    }
   ],
   "source": [
    "if comm.rank == 0: print(state[\"surface_pressure\"].data)"
   ]
  },
  {
   "cell_type": "markdown",
   "metadata": {},
   "source": [
    "If we want to view just the compute portion of the domain, we can use the `view` attribute of the quantity object.  This returns a NumPy array on each rank for just the compute domain.  Note that the `[:]` is required.  We need to specify which portion of the compute domain we want access. `[:]` indicates all the values; we could also select poritions (indices are relative to the compute domain boundaries)."
   ]
  },
  {
   "cell_type": "code",
   "execution_count": 12,
   "metadata": {},
   "outputs": [
    {
     "name": "stdout",
     "output_type": "stream",
     "text": [
      "[stdout:0] \n",
      "[[101059.18188382 101096.90323849 101116.97270215 ... 102449.47012135\n",
      "  102476.96503315 102494.18629518]\n",
      " [100204.42297611 101086.45393011 101189.03361909 ... 102224.11564928\n",
      "  102265.14489345 102259.91228519]\n",
      " [ 99669.44407131 100942.16320114 101198.8306177  ... 102063.72180522\n",
      "  102124.32597417 102149.30322019]\n",
      " ...\n",
      " [102406.28986313 102373.19296336 102357.57770745 ... 100565.91707173\n",
      "  100665.72361039 100316.47253656]\n",
      " [102354.79946106 102307.16588005 102270.27330614 ... 100684.46873225\n",
      "  100648.72111379 100439.0086575 ]\n",
      " [102225.80704029 102159.43289322 102097.99768333 ...  99748.33013979\n",
      "  100276.88166677 100513.29371392]]\n"
     ]
    }
   ],
   "source": [
    "if comm.rank == 0: print(state[\"surface_pressure\"].view[:])"
   ]
  },
  {
   "cell_type": "markdown",
   "metadata": {},
   "source": [
    "Here we are slicing along the y-dimension of the compute domain and selecting the 4th (recall Python is zero-indexed) value along the x-dimension of the compute domain:"
   ]
  },
  {
   "cell_type": "code",
   "execution_count": 13,
   "metadata": {},
   "outputs": [
    {
     "name": "stdout",
     "output_type": "stream",
     "text": [
      "[stdout:0] [101218.86032391 101243.24850032 101327.07554924 101566.83594979]\n"
     ]
    }
   ],
   "source": [
    "if comm.rank == 0: print(state[\"surface_pressure\"].view[1:5, 3])"
   ]
  },
  {
   "cell_type": "markdown",
   "metadata": {},
   "source": [
    "The order of the axes is given by the `dims` attribute:"
   ]
  },
  {
   "cell_type": "code",
   "execution_count": 14,
   "metadata": {},
   "outputs": [
    {
     "name": "stdout",
     "output_type": "stream",
     "text": [
      "[stdout:0] ('y', 'x')\n"
     ]
    }
   ],
   "source": [
    "if comm.rank == 0: print(state[\"surface_pressure\"].dims)"
   ]
  },
  {
   "cell_type": "markdown",
   "metadata": {},
   "source": [
    "### Creating a `Quantity` object from a NumPy array.\n",
    "\n",
    "It is straightforward to create a `Quantity` object yourself.  This can sometimes be useful.  Initialization requires an array, a sequence of dimensions, and units.  Additional optional arguments include, `extent`, `origin`, and `gt4py_backend`.  As mentioned above, `extent` and `origin` relate to halo points and the distinction between the compute and haloed domain.  `gt4py_backend` is something we will not worry about for now.\n",
    "\n",
    "The array that you provide the `Quantity` constructor includes any halo points.  Let's create a `Quantity` object with a single halo point in each horizontal dimension, whose compute domain is the same size as the compute domain for our current model configuration `(48, 48)`; we'll initialize it with zeros."
   ]
  },
  {
   "cell_type": "code",
   "execution_count": 15,
   "metadata": {},
   "outputs": [],
   "source": [
    "import fv3gfs.util\n",
    "import numpy as np"
   ]
  },
  {
   "cell_type": "code",
   "execution_count": 16,
   "metadata": {},
   "outputs": [],
   "source": [
    "array = np.zeros((50, 50))\n",
    "quantity = fv3gfs.util.Quantity(\n",
    "    array,\n",
    "    origin=(1, 1),\n",
    "    extent=(48, 48),\n",
    "    dims=[fv3gfs.util.Y_DIM, fv3gfs.util.X_DIM],\n",
    "    units=\"degK\"\n",
    ")"
   ]
  },
  {
   "cell_type": "markdown",
   "metadata": {},
   "source": [
    "If we look at `quantity.data.shape` we see the full shape of the array (including the halo points)."
   ]
  },
  {
   "cell_type": "code",
   "execution_count": 17,
   "metadata": {},
   "outputs": [
    {
     "data": {
      "text/plain": [
       "\u001b[0;31mOut[0:12]: \u001b[0m(50, 50)"
      ]
     },
     "metadata": {
      "after": [],
      "completed": "2021-01-18T16:09:13.261711",
      "data": {},
      "engine_id": 0,
      "engine_uuid": "c85883be-dcd087d3a7c736ea2cd84d6a",
      "error": null,
      "execute_input": "quantity.data.shape",
      "execute_result": {
       "data": {
        "text/plain": "(50, 50)"
       },
       "execution_count": 12,
       "metadata": {}
      },
      "follow": [],
      "msg_id": "0e0f7ee6-191175f1f4f023b058745b9c_67",
      "outputs": [],
      "received": "2021-01-18T16:09:13.270517",
      "started": "2021-01-18T16:09:13.251784",
      "status": "ok",
      "stderr": "",
      "stdout": "",
      "submitted": "2021-01-18T16:09:13.247061"
     },
     "output_type": "display_data"
    },
    {
     "data": {
      "text/plain": [
       "\u001b[0;31mOut[1:12]: \u001b[0m(50, 50)"
      ]
     },
     "metadata": {
      "after": [],
      "completed": "2021-01-18T16:09:13.254637",
      "data": {},
      "engine_id": 1,
      "engine_uuid": "ba899cb7-072358f45cf9147783bc9dd4",
      "error": null,
      "execute_input": "quantity.data.shape",
      "execute_result": {
       "data": {
        "text/plain": "(50, 50)"
       },
       "execution_count": 12,
       "metadata": {}
      },
      "follow": [],
      "msg_id": "0e0f7ee6-191175f1f4f023b058745b9c_68",
      "outputs": [],
      "received": "2021-01-18T16:09:13.265746",
      "started": "2021-01-18T16:09:13.251776",
      "status": "ok",
      "stderr": "",
      "stdout": "",
      "submitted": "2021-01-18T16:09:13.247326"
     },
     "output_type": "display_data"
    },
    {
     "data": {
      "text/plain": [
       "\u001b[0;31mOut[2:12]: \u001b[0m(50, 50)"
      ]
     },
     "metadata": {
      "after": [],
      "completed": "2021-01-18T16:09:13.262040",
      "data": {},
      "engine_id": 2,
      "engine_uuid": "49486dec-a6fa3ccdf4dbd14c43233d9f",
      "error": null,
      "execute_input": "quantity.data.shape",
      "execute_result": {
       "data": {
        "text/plain": "(50, 50)"
       },
       "execution_count": 12,
       "metadata": {}
      },
      "follow": [],
      "msg_id": "0e0f7ee6-191175f1f4f023b058745b9c_69",
      "outputs": [],
      "received": "2021-01-18T16:09:13.269530",
      "started": "2021-01-18T16:09:13.251985",
      "status": "ok",
      "stderr": "",
      "stdout": "",
      "submitted": "2021-01-18T16:09:13.247549"
     },
     "output_type": "display_data"
    },
    {
     "data": {
      "text/plain": [
       "\u001b[0;31mOut[3:12]: \u001b[0m(50, 50)"
      ]
     },
     "metadata": {
      "after": [],
      "completed": "2021-01-18T16:09:13.259454",
      "data": {},
      "engine_id": 3,
      "engine_uuid": "34312922-595b31c0e1a2223c64a1345a",
      "error": null,
      "execute_input": "quantity.data.shape",
      "execute_result": {
       "data": {
        "text/plain": "(50, 50)"
       },
       "execution_count": 12,
       "metadata": {}
      },
      "follow": [],
      "msg_id": "0e0f7ee6-191175f1f4f023b058745b9c_70",
      "outputs": [],
      "received": "2021-01-18T16:09:13.268510",
      "started": "2021-01-18T16:09:13.253131",
      "status": "ok",
      "stderr": "",
      "stdout": "",
      "submitted": "2021-01-18T16:09:13.247760"
     },
     "output_type": "display_data"
    },
    {
     "data": {
      "text/plain": [
       "\u001b[0;31mOut[4:12]: \u001b[0m(50, 50)"
      ]
     },
     "metadata": {
      "after": [],
      "completed": "2021-01-18T16:09:13.259512",
      "data": {},
      "engine_id": 4,
      "engine_uuid": "32586503-45861858ec630c4c81fcdeb6",
      "error": null,
      "execute_input": "quantity.data.shape",
      "execute_result": {
       "data": {
        "text/plain": "(50, 50)"
       },
       "execution_count": 12,
       "metadata": {}
      },
      "follow": [],
      "msg_id": "0e0f7ee6-191175f1f4f023b058745b9c_71",
      "outputs": [],
      "received": "2021-01-18T16:09:13.267216",
      "started": "2021-01-18T16:09:13.251922",
      "status": "ok",
      "stderr": "",
      "stdout": "",
      "submitted": "2021-01-18T16:09:13.247904"
     },
     "output_type": "display_data"
    },
    {
     "data": {
      "text/plain": [
       "\u001b[0;31mOut[5:12]: \u001b[0m(50, 50)"
      ]
     },
     "metadata": {
      "after": [],
      "completed": "2021-01-18T16:09:13.262695",
      "data": {},
      "engine_id": 5,
      "engine_uuid": "d4cf6621-1c20833b964ca23d454fe09e",
      "error": null,
      "execute_input": "quantity.data.shape",
      "execute_result": {
       "data": {
        "text/plain": "(50, 50)"
       },
       "execution_count": 12,
       "metadata": {}
      },
      "follow": [],
      "msg_id": "0e0f7ee6-191175f1f4f023b058745b9c_72",
      "outputs": [],
      "received": "2021-01-18T16:09:13.271606",
      "started": "2021-01-18T16:09:13.254209",
      "status": "ok",
      "stderr": "",
      "stdout": "",
      "submitted": "2021-01-18T16:09:13.248298"
     },
     "output_type": "display_data"
    }
   ],
   "source": [
    "quantity.data.shape"
   ]
  },
  {
   "cell_type": "markdown",
   "metadata": {},
   "source": [
    "If we look at just `quantity.view[:].shape` we see just the compute domain."
   ]
  },
  {
   "cell_type": "code",
   "execution_count": 18,
   "metadata": {},
   "outputs": [
    {
     "data": {
      "text/plain": [
       "\u001b[0;31mOut[0:13]: \u001b[0m(48, 48)"
      ]
     },
     "metadata": {
      "after": [],
      "completed": "2021-01-18T16:09:15.966631",
      "data": {},
      "engine_id": 0,
      "engine_uuid": "c85883be-dcd087d3a7c736ea2cd84d6a",
      "error": null,
      "execute_input": "quantity.view[:].shape",
      "execute_result": {
       "data": {
        "text/plain": "(48, 48)"
       },
       "execution_count": 13,
       "metadata": {}
      },
      "follow": [],
      "msg_id": "0e0f7ee6-191175f1f4f023b058745b9c_73",
      "outputs": [],
      "received": "2021-01-18T16:09:15.977824",
      "started": "2021-01-18T16:09:15.955454",
      "status": "ok",
      "stderr": "",
      "stdout": "",
      "submitted": "2021-01-18T16:09:15.949361"
     },
     "output_type": "display_data"
    },
    {
     "data": {
      "text/plain": [
       "\u001b[0;31mOut[1:13]: \u001b[0m(48, 48)"
      ]
     },
     "metadata": {
      "after": [],
      "completed": "2021-01-18T16:09:15.957741",
      "data": {},
      "engine_id": 1,
      "engine_uuid": "ba899cb7-072358f45cf9147783bc9dd4",
      "error": null,
      "execute_input": "quantity.view[:].shape",
      "execute_result": {
       "data": {
        "text/plain": "(48, 48)"
       },
       "execution_count": 13,
       "metadata": {}
      },
      "follow": [],
      "msg_id": "0e0f7ee6-191175f1f4f023b058745b9c_74",
      "outputs": [],
      "received": "2021-01-18T16:09:15.967397",
      "started": "2021-01-18T16:09:15.954601",
      "status": "ok",
      "stderr": "",
      "stdout": "",
      "submitted": "2021-01-18T16:09:15.949647"
     },
     "output_type": "display_data"
    },
    {
     "data": {
      "text/plain": [
       "\u001b[0;31mOut[2:13]: \u001b[0m(48, 48)"
      ]
     },
     "metadata": {
      "after": [],
      "completed": "2021-01-18T16:09:15.958444",
      "data": {},
      "engine_id": 2,
      "engine_uuid": "49486dec-a6fa3ccdf4dbd14c43233d9f",
      "error": null,
      "execute_input": "quantity.view[:].shape",
      "execute_result": {
       "data": {
        "text/plain": "(48, 48)"
       },
       "execution_count": 13,
       "metadata": {}
      },
      "follow": [],
      "msg_id": "0e0f7ee6-191175f1f4f023b058745b9c_75",
      "outputs": [],
      "received": "2021-01-18T16:09:15.971439",
      "started": "2021-01-18T16:09:15.954839",
      "status": "ok",
      "stderr": "",
      "stdout": "",
      "submitted": "2021-01-18T16:09:15.949876"
     },
     "output_type": "display_data"
    },
    {
     "data": {
      "text/plain": [
       "\u001b[0;31mOut[3:13]: \u001b[0m(48, 48)"
      ]
     },
     "metadata": {
      "after": [],
      "completed": "2021-01-18T16:09:15.964124",
      "data": {},
      "engine_id": 3,
      "engine_uuid": "34312922-595b31c0e1a2223c64a1345a",
      "error": null,
      "execute_input": "quantity.view[:].shape",
      "execute_result": {
       "data": {
        "text/plain": "(48, 48)"
       },
       "execution_count": 13,
       "metadata": {}
      },
      "follow": [],
      "msg_id": "0e0f7ee6-191175f1f4f023b058745b9c_76",
      "outputs": [],
      "received": "2021-01-18T16:09:15.976639",
      "started": "2021-01-18T16:09:15.957624",
      "status": "ok",
      "stderr": "",
      "stdout": "",
      "submitted": "2021-01-18T16:09:15.950124"
     },
     "output_type": "display_data"
    },
    {
     "data": {
      "text/plain": [
       "\u001b[0;31mOut[4:13]: \u001b[0m(48, 48)"
      ]
     },
     "metadata": {
      "after": [],
      "completed": "2021-01-18T16:09:15.972307",
      "data": {},
      "engine_id": 4,
      "engine_uuid": "32586503-45861858ec630c4c81fcdeb6",
      "error": null,
      "execute_input": "quantity.view[:].shape",
      "execute_result": {
       "data": {
        "text/plain": "(48, 48)"
       },
       "execution_count": 13,
       "metadata": {}
      },
      "follow": [],
      "msg_id": "0e0f7ee6-191175f1f4f023b058745b9c_77",
      "outputs": [],
      "received": "2021-01-18T16:09:15.979650",
      "started": "2021-01-18T16:09:15.958410",
      "status": "ok",
      "stderr": "",
      "stdout": "",
      "submitted": "2021-01-18T16:09:15.950448"
     },
     "output_type": "display_data"
    },
    {
     "data": {
      "text/plain": [
       "\u001b[0;31mOut[5:13]: \u001b[0m(48, 48)"
      ]
     },
     "metadata": {
      "after": [],
      "completed": "2021-01-18T16:09:15.972738",
      "data": {},
      "engine_id": 5,
      "engine_uuid": "d4cf6621-1c20833b964ca23d454fe09e",
      "error": null,
      "execute_input": "quantity.view[:].shape",
      "execute_result": {
       "data": {
        "text/plain": "(48, 48)"
       },
       "execution_count": 13,
       "metadata": {}
      },
      "follow": [],
      "msg_id": "0e0f7ee6-191175f1f4f023b058745b9c_78",
      "outputs": [],
      "received": "2021-01-18T16:09:15.978911",
      "started": "2021-01-18T16:09:15.966810",
      "status": "ok",
      "stderr": "",
      "stdout": "",
      "submitted": "2021-01-18T16:09:15.950625"
     },
     "output_type": "display_data"
    }
   ],
   "source": [
    "quantity.view[:].shape"
   ]
  },
  {
   "cell_type": "markdown",
   "metadata": {},
   "source": [
    "We can assing values to the compute domain as we would to a normal NumPy array:"
   ]
  },
  {
   "cell_type": "code",
   "execution_count": 20,
   "metadata": {},
   "outputs": [
    {
     "name": "stdout",
     "output_type": "stream",
     "text": [
      "[stdout:0] \n",
      "[[0. 0. 0. ... 0. 0. 0.]\n",
      " [0. 1. 1. ... 1. 1. 0.]\n",
      " [0. 1. 1. ... 1. 1. 0.]\n",
      " ...\n",
      " [0. 1. 1. ... 1. 1. 0.]\n",
      " [0. 1. 1. ... 1. 1. 0.]\n",
      " [0. 0. 0. ... 0. 0. 0.]]\n"
     ]
    }
   ],
   "source": [
    "quantity.view[:] = 1.0\n",
    "if comm.rank == 0: print(quantity.data)"
   ]
  },
  {
   "cell_type": "markdown",
   "metadata": {},
   "source": [
    "## Converting to DataArray objects\n",
    "\n",
    "Quantity objects can be converted to `xarray.DataArray` objects through their `data_array` attribute.  `xarray.DataArray` are a more flexible/widely-used container for arrays of data.  They also contain metadata regarding the dimensions and units, so they can easily be converted back to `Quantity` objects.  It can sometimes be useful to go back and forth between these two representations of arrays.\n",
    "\n",
    "Note, however, that when converting to a `DataArray`, `Quantity` objects lose their halo points."
   ]
  },
  {
   "cell_type": "code",
   "execution_count": 21,
   "metadata": {},
   "outputs": [
    {
     "name": "stdout",
     "output_type": "stream",
     "text": [
      "[stdout:0] \n",
      "<xarray.DataArray (y: 48, x: 48)>\n",
      "array([[101059.18188382, 101096.90323849, 101116.97270215, ...,\n",
      "        102449.47012135, 102476.96503315, 102494.18629518],\n",
      "       [100204.42297611, 101086.45393011, 101189.03361909, ...,\n",
      "        102224.11564928, 102265.14489345, 102259.91228519],\n",
      "       [ 99669.44407131, 100942.16320114, 101198.8306177 , ...,\n",
      "        102063.72180522, 102124.32597417, 102149.30322019],\n",
      "       ...,\n",
      "       [102406.28986313, 102373.19296336, 102357.57770745, ...,\n",
      "        100565.91707173, 100665.72361039, 100316.47253656],\n",
      "       [102354.79946106, 102307.16588005, 102270.27330614, ...,\n",
      "        100684.46873225, 100648.72111379, 100439.0086575 ],\n",
      "       [102225.80704029, 102159.43289322, 102097.99768333, ...,\n",
      "         99748.33013979, 100276.88166677, 100513.29371392]])\n",
      "Dimensions without coordinates: y, x\n",
      "Attributes:\n",
      "    units:    Pa\n"
     ]
    }
   ],
   "source": [
    "if comm.rank == 0: print(state[\"surface_pressure\"].data_array)"
   ]
  },
  {
   "cell_type": "markdown",
   "metadata": {},
   "source": [
    "We can convert the `DataArray` back to a `Quantity` object using the `fv3gfs.util.Quantity.from_data_array` method.  We can see we get back a `Quantity`, but now the origin is located at `(0, 0)`, i.e. we lost the halo points."
   ]
  },
  {
   "cell_type": "code",
   "execution_count": 22,
   "metadata": {},
   "outputs": [
    {
     "name": "stdout",
     "output_type": "stream",
     "text": [
      "[stdout:0] \n",
      "Quantity(\n",
      "    data=\n",
      "[[101059.18188382 101096.90323849 101116.97270215 ... 102449.47012135\n",
      "  102476.96503315 102494.18629518]\n",
      " [100204.42297611 101086.45393011 101189.03361909 ... 102224.11564928\n",
      "  102265.14489345 102259.91228519]\n",
      " [ 99669.44407131 100942.16320114 101198.8306177  ... 102063.72180522\n",
      "  102124.32597417 102149.30322019]\n",
      " ...\n",
      " [102406.28986313 102373.19296336 102357.57770745 ... 100565.91707173\n",
      "  100665.72361039 100316.47253656]\n",
      " [102354.79946106 102307.16588005 102270.27330614 ... 100684.46873225\n",
      "  100648.72111379 100439.0086575 ]\n",
      " [102225.80704029 102159.43289322 102097.99768333 ...  99748.33013979\n",
      "  100276.88166677 100513.29371392]],\n",
      "    dims=('y', 'x'),\n",
      "    units=Pa,\n",
      "    origin=(0, 0),\n",
      "    extent=(48, 48)\n",
      ")\n"
     ]
    }
   ],
   "source": [
    "if comm.rank == 0: print(fv3gfs.util.Quantity.from_data_array(state[\"surface_pressure\"].data_array))"
   ]
  },
  {
   "cell_type": "markdown",
   "metadata": {},
   "source": [
    "### Quantity objects support slicing with named dimensions, but return NumPy arrays"
   ]
  },
  {
   "cell_type": "code",
   "execution_count": 23,
   "metadata": {},
   "outputs": [
    {
     "name": "stdout",
     "output_type": "stream",
     "text": [
      "[stdout:0] \n",
      "[101059.18188382 100204.42297611  99669.44407131  99063.6111172\n",
      "  98329.88686833  97624.84093015  97306.42460503  97268.66855453\n",
      "  97472.42009297  97054.18513786  96511.9603454   96541.77992948\n",
      "  95731.38605173  95420.89638046  95977.4364925   97147.24555563\n",
      "  97328.0012324   97192.07716309  97461.67345888  98075.14869491\n",
      "  98492.78743541  99128.9381613   99948.9117034   97950.84563428\n",
      "  97277.24117451  97913.70824123  99141.77557237 100418.43973702\n",
      " 101201.49004954 101242.24681821 101269.35392014 101311.1684855\n",
      " 101363.0436361  101439.00200029 101527.32843515 101614.19549934\n",
      " 101709.04743622 101808.05611417 101893.70457407 101989.1400099\n",
      " 102108.95699037 102216.66528849 102304.56019148 102373.32464139\n",
      " 102419.6417956  102406.28986313 102354.79946106 102225.80704029]\n"
     ]
    }
   ],
   "source": [
    "if comm.rank == 0: print(state[\"surface_pressure\"].sel(x=0))"
   ]
  },
  {
   "cell_type": "markdown",
   "metadata": {},
   "source": [
    "### DataArray objects can make slicing along dimensions easier\n",
    "\n",
    "It can be useful in some instances to slice a `Quantity` object and return a `Quantity` object in kind.  To do so we'll define a simple wrapper around converting a `Quantity` to a `DataArray`, indexing, and then converting back to a `Quantity`.  We can do this by using the `fv3gfs.util.Quantity.from_data_array` method."
   ]
  },
  {
   "cell_type": "code",
   "execution_count": 24,
   "metadata": {},
   "outputs": [],
   "source": [
    "def select(quantity, **indexers):\n",
    "    selected = quantity.data_array.isel(indexers)\n",
    "    return fv3gfs.util.Quantity.from_data_array(selected)"
   ]
  },
  {
   "cell_type": "code",
   "execution_count": 25,
   "metadata": {},
   "outputs": [
    {
     "name": "stdout",
     "output_type": "stream",
     "text": [
      "[stdout:0] \n",
      "Quantity(\n",
      "    data=\n",
      "[101059.18188382 101096.90323849 101116.97270215 101052.57012484\n",
      " 101036.2320509  101077.06609627 101185.39745401 101330.85948217\n",
      " 101448.33983006 101550.85642806 101564.83215659 101502.9758725\n",
      " 101430.15083078 101339.5564302  101238.01761302 101119.96025714\n",
      " 101075.25478445 101118.33908574 101143.74844938 101150.34566863\n",
      " 101151.82706788 101132.77452323 101072.74932827 101046.1206295\n",
      " 101059.59020757 101065.6960298  101019.97239612 100936.18885005\n",
      " 100876.59020389 100912.57139336 101000.83096697 101032.3181076\n",
      " 100976.99840707 100929.58578383 101001.6856749  101225.1188356\n",
      " 101409.27506116 101537.28107329 101562.30930993 101661.25343745\n",
      " 101898.34637965 102090.50662239 102191.98053211 102272.54831547\n",
      " 102382.99148317 102449.47012135 102476.96503315 102494.18629518],\n",
      "    dims=('x',),\n",
      "    units=Pa,\n",
      "    origin=(0,),\n",
      "    extent=(48,)\n",
      ")\n"
     ]
    }
   ],
   "source": [
    "if comm.rank == 0: print(select(state[\"surface_pressure\"], y=0))"
   ]
  },
  {
   "cell_type": "markdown",
   "metadata": {},
   "source": [
    "## Plotting the state\n",
    "\n",
    "With a bit of `fv3gfs.util` magic we can gather the state from all MPI ranks and plot the result.  This is encapsulated in a function called `plot_global` we provided in a pre-written module.  Let's import that now.\n",
    "\n",
    "`plot_global` takes in a 2D `Quantity` object, an MPI communicator, and a colorscale bounds.  Optionally, it takes in a `layout` parameter if you are running with more than the default 6 MPI ranks.  It handles gathering data from all MPI ranks on rank zero, and making a rough global plot (with the compute domains rotated and plotted in the correct places in a deconstructed cube)."
   ]
  },
  {
   "cell_type": "code",
   "execution_count": 26,
   "metadata": {},
   "outputs": [
    {
     "name": "stdout",
     "output_type": "stream",
     "text": [
      "[stdout:0] \n",
      "Help on function plot_global in module tools:\n",
      "\n",
      "plot_global(quantity, mpi_comm_world, vmin, vmax, layout=(1, 1))\n",
      "    Plot a quantity globally on the root rank as a flattened cube.\n",
      "\n",
      "None\n"
     ]
    }
   ],
   "source": [
    "from tools import plot_global\n",
    "if comm.rank == 0: print(help(plot_global))"
   ]
  },
  {
   "cell_type": "code",
   "execution_count": 27,
   "metadata": {},
   "outputs": [
    {
     "data": {
      "text/plain": [
       "[output:0]"
      ]
     },
     "metadata": {},
     "output_type": "display_data"
    },
    {
     "data": {
      "image/png": "[encoded data removed]",
      "text/plain": [
       "<Figure size 648x396 with 2 Axes>"
      ]
     },
     "metadata": {
      "engine": 0,
      "needs_background": "light"
     },
     "output_type": "display_data"
    }
   ],
   "source": [
    "plot_global(state[\"surface_pressure\"], comm, 60000, 100000)"
   ]
  },
  {
   "cell_type": "markdown",
   "metadata": {},
   "source": [
    "Note that this plotting function only supports plotting 2D fields (i.e. fields defined in the x and y dimensions only).  To plot 3D fields, like `\"air_temperature\"`, we need to select horizontal slices first.  \n",
    "\n",
    "## Exercise: plot a horizontal slice of a 3D field\n",
    "\n",
    "Leveraging `get_state`, `select`, and `plot_global` functions, can you plot the temperature in the lowest model level?  Note that the `z` axis in the model is oriented from top to bottom."
   ]
  },
  {
   "cell_type": "code",
   "execution_count": null,
   "metadata": {},
   "outputs": [],
   "source": []
  },
  {
   "cell_type": "markdown",
   "metadata": {},
   "source": [
    "## Exercise: compute a diagnostic using state from the fortran model\n",
    "\n",
    "We can compute the mass-weighted integral of a tracer `q` by multiplying it by the pressure thickness and dividing by the gravitational acceleration:\n",
    "\n",
    "$$ <q> = \\frac{1}{g} \\int q dp $$\n",
    "\n",
    "Define a function that takes in two `Quantity` objects -- a tracer field and the pressure thickness -- and returns the mass-weighted integral of the tracer field as another `Quantity` object.  Look up the names of the fields for the pressure thickness in the [dynamics_properties.json](https://github.com/VulcanClimateModeling/fv3gfs-wrapper/blob/master/fv3gfs/wrapper/dynamics_properties.json) file in the fv3gfs-wrapper repository and find the cloud liquid water tracer name using `fv3gfs.wrapper.get_tracer_metadata()`, and use your new function to compute the column-integrated cloud liquid water.  Plot the result using `plot_global` (it should look something like clouds!).\n",
    "\n",
    "Hint: `Quantity` objects do not support arithmetic natively; you will need to pull out the underlying arrays. There are multiple ways you could do this.  If you are familiar with xarray you might prefer to go the route of converting the input Quantities to DataArrays first, but if you are more comfortable with NumPy you may prefer to use the `Quantity.view[:]` syntax to operate on NumPy arrays directly and construct a `Quantity` object from the result.  Reasonable colorbar bounds for this quantity are `0.0` and `0.1`."
   ]
  },
  {
   "cell_type": "code",
   "execution_count": null,
   "metadata": {},
   "outputs": [],
   "source": []
  },
  {
   "cell_type": "markdown",
   "metadata": {},
   "source": [
    "## Exercise: step the model forward a few timesteps and plot the column integrated cloud liquid water again"
   ]
  },
  {
   "cell_type": "code",
   "execution_count": null,
   "metadata": {},
   "outputs": [],
   "source": []
  },
  {
   "cell_type": "markdown",
   "metadata": {},
   "source": [
    "## Something else you can try if you have time\n",
    "\n",
    "Compute and plot the tendency of specific humidity due to the dynamics by taking the difference between the state before and after `step_dynamics` is called and dividing by the timestep.  Do the same for the physics tendency.  How do they compare?"
   ]
  },
  {
   "cell_type": "code",
   "execution_count": null,
   "metadata": {},
   "outputs": [],
   "source": []
  }
 ],
 "metadata": {
  "kernelspec": {
   "display_name": "Python 3",
   "language": "python",
   "name": "python3"
  },
  "language_info": {
   "codemirror_mode": {
    "name": "ipython",
    "version": 3
   },
   "file_extension": ".py",
   "mimetype": "text/x-python",
   "name": "python",
   "nbconvert_exporter": "python",
   "pygments_lexer": "ipython3",
   "version": "3.7.5"
  }
 },
 "nbformat": 4,
 "nbformat_minor": 4
}
